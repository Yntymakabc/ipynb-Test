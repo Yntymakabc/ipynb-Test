{
 "cells": [
  {
   "cell_type": "code",
   "execution_count": null,
   "id": "d70d84b0",
   "metadata": {},
   "outputs": [],
   "source": [
    "import requests\n",
    "\n",
    "# API endpoint\n",
    "url = \"https://dair12.pythonanywhere.com/auth/register/\"\n",
    "\n",
    "# Data to send in the POST request\n",
    "data = {\n",
    "    \"name\": \"aku\",          \n",
    "    \"email\": \"aku@example.com\",  \n",
    "    \"password\": \"qwe\"            \n",
    "}\n",
    "\n",
    "response = requests.post(url, json=data)\n",
    "print(response.json())\n",
    "    "
   ]
  },
  {
   "cell_type": "code",
   "execution_count": null,
   "id": "66fcdf15",
   "metadata": {},
   "outputs": [],
   "source": [
    "import requests\n",
    "\n",
    "# API endpoint\n",
    "url = \"https://dair12.pythonanywhere.com/auth/login/\"\n",
    "\n",
    "# Data to send in the POST request\n",
    "data = {\n",
    "    \"name\": \"yntymak\",          \n",
    "    \"email\": \"yntmak@example.com\",  \n",
    "    \"password\": \"qwe\"            \n",
    "}\n",
    "\n",
    "response = requests.post(url, json=data)\n",
    "print(response.json())\n",
    "    "
   ]
  },
  {
   "cell_type": "code",
   "execution_count": null,
   "id": "6e64b135",
   "metadata": {},
   "outputs": [],
   "source": [
    "import requests\n",
    "\n",
    "# API endpoint\n",
    "url = \"https://dair12.pythonanywhere.com/users/\"\n",
    "\n",
    "# GET request to fetch list of users\n",
    "response = requests.get(url)\n",
    "print(response.json())"
   ]
  },
  {
   "cell_type": "code",
   "execution_count": null,
   "id": "660e5927",
   "metadata": {},
   "outputs": [],
   "source": [
    "import requests\n",
    "\n",
    "id = 1\n",
    "url = f\"https://dair12.pythonanywhere.com/users/{id}/\"\n",
    "\n",
    "\n",
    "response = requests.get(url)\n",
    "print(response.json())"
   ]
  },
  {
   "cell_type": "code",
   "execution_count": null,
   "id": "18e2355a",
   "metadata": {},
   "outputs": [],
   "source": [
    "import requests\n",
    "\n",
    "\n",
    "user_id = 2\n",
    "\n",
    "\n",
    "url = f\"https://dair12.pythonanywhere.com/users/{user_id}/update/\"\n",
    "\n",
    "\n",
    "data = {\n",
    "    \"name\": \"admin\",\n",
    "    \"email\": \"admin@example.com\",\n",
    "    \"role\": \"Admin\"\n",
    "}\n",
    "\n",
    "\n",
    "response = requests.put(url, json=data)\n",
    "print(response.json())"
   ]
  },
  {
   "cell_type": "code",
   "execution_count": null,
   "id": "fd4a486f",
   "metadata": {},
   "outputs": [],
   "source": [
    "import requests\n",
    "\n",
    "\n",
    "user_id = 1  \n",
    "\n",
    "\n",
    "url = f\"https://dair12.pythonanywhere.com/users/{user_id}/delete/\"\n",
    "\n",
    "\n",
    "\n",
    "\n",
    "response = requests.delete(url)\n",
    "print(response.json())"
   ]
  },
  {
   "cell_type": "code",
   "execution_count": null,
   "id": "49721e93",
   "metadata": {},
   "outputs": [],
   "source": [
    "import requests\n",
    "\n",
    "url = f\"https://dair12.pythonanywhere.com/exams/create/\"\n",
    "\n",
    "\n",
    "data = {\n",
    "    \"exam_code\": \"SAT\",\n",
    "    \"name\":\"SAT examination\",\n",
    "    \"has_fixed_structure\": True,\n",
    "    \"default_question_count\":20, \n",
    "    \"time_to_complete\": 120\n",
    "}\n",
    "\n",
    "\n",
    "response = requests.post(url, json=data)\n",
    "print(response.json())"
   ]
  },
  {
   "cell_type": "code",
   "execution_count": null,
   "id": "23946c70",
   "metadata": {},
   "outputs": [],
   "source": [
    "import requests\n",
    "\n",
    "url = f\"https://dair12.pythonanywhere.com/exams/create/\"\n",
    "\n",
    "\n",
    "data = {\n",
    "    \"exam_code\": \"ORT\",\n",
    "    \"name\":\"Nation Testiong\",\n",
    "    \"has_fixed_structure\": True,\n",
    "    \"default_question_count\":20, \n",
    "    \"time_to_complete\": 120\n",
    "}\n",
    "\n",
    "\n",
    "response = requests.post(url, json=data)\n",
    "print(response.json())"
   ]
  },
  {
   "cell_type": "code",
   "execution_count": null,
   "id": "369e0418",
   "metadata": {},
   "outputs": [],
   "source": [
    "import requests\n",
    "\n",
    "url = f\"https://dair12.pythonanywhere.com/exams/\"\n",
    "\n",
    "\n",
    "\n",
    "response = requests.get(url)\n",
    "print(response.json())"
   ]
  },
  {
   "cell_type": "code",
   "execution_count": null,
   "id": "ec31829f",
   "metadata": {},
   "outputs": [],
   "source": [
    "import requests\n",
    "\n",
    "exam_id = 1\n",
    "url = f\"https://dair12.pythonanywhere.com/exams/{exam_id}\"\n",
    "\n",
    "\n",
    "\n",
    "\n",
    "response = requests.get(url)\n",
    "print(response.json())"
   ]
  },
  {
   "cell_type": "code",
   "execution_count": null,
   "id": "66b8e976",
   "metadata": {},
   "outputs": [],
   "source": [
    "import requests\n",
    "\n",
    "# API endpoint for creating a subject\n",
    "url = \"https://dair12.pythonanywhere.com/subjects/create/\"\n",
    "\n",
    "# Data to send in the POST request\n",
    "data = {\n",
    "    \"name\": \"English\",\n",
    "    \"exam_id\": 1\n",
    "}\n",
    "\n",
    "# Sending the POST request\n",
    "response = requests.post(url, json=data)\n",
    "print(response.json())"
   ]
  },
  {
   "cell_type": "code",
   "execution_count": null,
   "id": "3f3b13bd",
   "metadata": {},
   "outputs": [],
   "source": [
    "import requests\n",
    "\n",
    "id = 1\n",
    "url = f\"https://dair12.pythonanywhere.com/subjects/{id}\"\n",
    "\n",
    "\n",
    "\n",
    "response = requests.get(url)\n",
    "print(response.json())"
   ]
  },
  {
   "cell_type": "code",
   "execution_count": null,
   "id": "b3532983",
   "metadata": {},
   "outputs": [],
   "source": [
    "import requests\n",
    "\n",
    "id = 1\n",
    "url = f\"https://dair12.pythonanywhere.com/subjects/\"\n",
    "\n",
    "\n",
    "\n",
    "response = requests.get(url)\n",
    "print(response.json())"
   ]
  },
  {
   "cell_type": "code",
   "execution_count": null,
   "id": "d6d26964",
   "metadata": {},
   "outputs": [],
   "source": [
    "import requests\n",
    "\n",
    "# API endpoint for creating a subject section\n",
    "url = \"https://dair12.pythonanywhere.com/subject-sections/create/\"\n",
    "\n",
    "# Data to send in the POST request\n",
    "data = {\n",
    "    \"subject_id\": 2,\n",
    "    \"name\": \"Listening\"\n",
    "}\n",
    "\n",
    "# Sending the POST request\n",
    "response = requests.post(url, json=data)\n",
    "print(response.json())"
   ]
  },
  {
   "cell_type": "code",
   "execution_count": null,
   "id": "99635b6d",
   "metadata": {},
   "outputs": [],
   "source": [
    "import requests\n",
    "\n",
    "url = f\"https://dair12.pythonanywhere.com/subject-sections/\"\n",
    "\n",
    "\n",
    "\n",
    "response = requests.get(url)\n",
    "print(response.json())"
   ]
  },
  {
   "cell_type": "code",
   "execution_count": null,
   "id": "64c5e7eb",
   "metadata": {},
   "outputs": [],
   "source": [
    "import requests\n",
    "\n",
    "id = 6\n",
    "url = f\"https://dair12.pythonanywhere.com/subject-sections/{id}\"\n",
    "\n",
    "\n",
    "\n",
    "response = requests.get(url)\n",
    "print(response.json())"
   ]
  },
  {
   "cell_type": "code",
   "execution_count": null,
   "id": "0ff8a393",
   "metadata": {},
   "outputs": [],
   "source": [
    "import requests\n",
    "\n",
    "id = 6\n",
    "url = f\"https://dair12.pythonanywhere.com/subject-sections/{id}/delete\"\n",
    "\n",
    "\n",
    "\n",
    "\n",
    "response = requests.delete(url)\n",
    "print(response.json())"
   ]
  },
  {
   "cell_type": "code",
   "execution_count": null,
   "id": "5bc1a6fc",
   "metadata": {},
   "outputs": [],
   "source": [
    "import requests\n",
    "\n",
    "url = f'https://dair12.pythonanywhere.com/questions/create/'\n",
    "\n",
    "data = {\n",
    "    \"admin_id\":2,\n",
    "    \"subject_id\":2,\n",
    "    \"section_id\":2, \n",
    "    \"question_text\":\"what is hdd\",\n",
    "    \"option_1\":1, \n",
    "    \"option_2\":2,\n",
    "    \"option_3\":3,\n",
    "    \"option_4\":4,\n",
    "    \"option_5\":5,\n",
    "    \"option_6\":6,\n",
    "    \"correct_option\":3, \n",
    "    \"level\": \"easy\", \n",
    "    \"language_code\":\"ru\",\n",
    "    \"type_id\":1\n",
    "}\n",
    "response = requests.post(url, json=data)\n",
    "print(response.json())"
   ]
  },
  {
   "cell_type": "code",
   "execution_count": null,
   "id": "cb92f6e1",
   "metadata": {},
   "outputs": [],
   "source": [
    "import requests\n",
    "\n",
    "id = 6\n",
    "url = f\"https://dair12.pythonanywhere.com/questions/\"\n",
    "\n",
    "\n",
    "\n",
    "response = requests.get(url)\n",
    "print(response.json())"
   ]
  },
  {
   "cell_type": "code",
   "execution_count": null,
   "id": "932ddeda",
   "metadata": {},
   "outputs": [],
   "source": [
    "import requests\n",
    "\n",
    "id = 1\n",
    "url = f\"https://dair12.pythonanywhere.com/questions/{id}\"\n",
    "\n",
    "\n",
    "\n",
    "response = requests.get(url)\n",
    "\n",
    "print(response.json())"
   ]
  },
  {
   "cell_type": "code",
   "execution_count": null,
   "id": "4d3666b3",
   "metadata": {},
   "outputs": [],
   "source": [
    "import requests\n",
    "\n",
    "id = 1\n",
    "url = f'https://dair12.pythonanywhere.com/questions/{id}/update/'\n",
    "\n",
    "data = {\n",
    "    \"question_text\": \"Updated question text\",\n",
    "    \"admin_id\":2,\n",
    "    \"subject_id\":1,\n",
    "    \"section_id\":1, \n",
    "    \"option_1\":6, \n",
    "    \"option_2\":\"hello\",\n",
    "    \"option_3\":\"world\",\n",
    "    \"option_4\":\"he said\",\n",
    "    \"option_5\":\"that \",\n",
    "    \"option_6\":\"it \",\n",
    "    \"correct_option\":3, \n",
    "    \"level\": \"easy\", \n",
    "    \"language_code\":\"ru\",\n",
    "    \"type_id\":1\n",
    "}\n",
    "response = requests.put(url, json=data)\n",
    "print(response.json())"
   ]
  },
  {
   "cell_type": "code",
   "execution_count": null,
   "id": "fea0aab2",
   "metadata": {},
   "outputs": [],
   "source": [
    "import requests\n",
    "\n",
    "id = 2\n",
    "url = f'https://dair12.pythonanywhere.com/questions/{id}/delete/'\n",
    "\n",
    "\n",
    "response = requests.delete(url, json=data)\n",
    "print(response.json())"
   ]
  },
  {
   "cell_type": "code",
   "execution_count": null,
   "id": "e25e9133",
   "metadata": {},
   "outputs": [],
   "source": [
    "import requests\n",
    "id = 2\n",
    "url = f'https://dair12.pythonanywhere.com/questions/by-subject/{id}'\n",
    "\n",
    "response = requests.get(url)\n",
    "print(response.json())"
   ]
  },
  {
   "cell_type": "code",
   "execution_count": null,
   "id": "d690f621",
   "metadata": {},
   "outputs": [],
   "source": [
    "import requests\n",
    "id = 2\n",
    "url = f'https://dair12.pythonanywhere.com/questions/by-section/{id}'\n",
    "\n",
    "response = requests.get(url)\n",
    "print(response.json())"
   ]
  },
  {
   "cell_type": "code",
   "execution_count": null,
   "id": "96d2bbfe",
   "metadata": {},
   "outputs": [],
   "source": []
  }
 ],
 "metadata": {
  "kernelspec": {
   "display_name": "Python 3",
   "language": "python",
   "name": "python3"
  },
  "language_info": {
   "codemirror_mode": {
    "name": "ipython",
    "version": 3
   },
   "file_extension": ".py",
   "mimetype": "text/x-python",
   "name": "python",
   "nbconvert_exporter": "python",
   "pygments_lexer": "ipython3",
   "version": "3.13.2"
  }
 },
 "nbformat": 4,
 "nbformat_minor": 5
}
