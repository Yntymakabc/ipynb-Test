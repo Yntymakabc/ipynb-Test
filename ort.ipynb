{
 "cells": [
  {
   "cell_type": "code",
   "execution_count": 17,
   "id": "d70d84b0",
   "metadata": {},
   "outputs": [
    {
     "name": "stdout",
     "output_type": "stream",
     "text": [
      "{'email': ['user with this email already exists.']}\n"
     ]
    }
   ],
   "source": [
    "import requests\n",
    "\n",
    "# API endpoint\n",
    "url = \"https://dair12.pythonanywhere.com/auth/register/\"\n",
    "\n",
    "# Data to send in the POST request\n",
    "data = {\n",
    "    \"name\": \"Changed to aku\",          \n",
    "    \"email\": \"newAku@example.com\",  \n",
    "    \"password\": \"qwe\"            \n",
    "}\n",
    "\n",
    "response = requests.post(url, json=data)\n",
    "print(response.json())\n",
    "    "
   ]
  },
  {
   "cell_type": "code",
   "execution_count": 18,
   "id": "66fcdf15",
   "metadata": {},
   "outputs": [
    {
     "name": "stdout",
     "output_type": "stream",
     "text": [
      "{'message': 'Login successful', 'user_id': 3, 'role': 'User'}\n"
     ]
    }
   ],
   "source": [
    "import requests\n",
    "\n",
    "# API endpoint\n",
    "url = \"https://dair12.pythonanywhere.com/auth/login/\"\n",
    "\n",
    "# Data to send in the POST request\n",
    "data = {\n",
    "    \"name\": \"Changed to aku\",          \n",
    "    \"email\": \"newAku@example.com\",  \n",
    "    \"password\": \"qwe\"            \n",
    "}\n",
    "\n",
    "response = requests.post(url, json=data)\n",
    "print(response.json())\n",
    "    "
   ]
  },
  {
   "cell_type": "code",
   "execution_count": 7,
   "id": "6e64b135",
   "metadata": {},
   "outputs": [
    {
     "name": "stdout",
     "output_type": "stream",
     "text": [
      "[{'id': 2, 'name': 'Updated Name', 'email': 'updated@example.com', 'role': 'User', 'created_at': '2025-04-22T08:50:42.749772Z'}, {'id': 3, 'name': 'Akulenok', 'email': 'aku@example.com', 'role': 'User', 'created_at': '2025-04-22T09:52:44.928171Z'}]\n"
     ]
    }
   ],
   "source": [
    "import requests\n",
    "\n",
    "# API endpoint\n",
    "url = \"https://dair12.pythonanywhere.com/users/\"\n",
    "\n",
    "# GET request to fetch list of users\n",
    "response = requests.get(url)\n",
    "print(response.json())"
   ]
  },
  {
   "cell_type": "code",
   "execution_count": 12,
   "id": "660e5927",
   "metadata": {},
   "outputs": [
    {
     "name": "stdout",
     "output_type": "stream",
     "text": [
      "{'id': 3, 'name': 'Changed to aku', 'email': 'newAku@example.com', 'role': 'User', 'created_at': '2025-04-22T09:52:44.928171Z'}\n"
     ]
    }
   ],
   "source": [
    "import requests\n",
    "\n",
    "id = 3\n",
    "url = f\"https://dair12.pythonanywhere.com/users/{id}/\"\n",
    "\n",
    "\n",
    "response = requests.get(url)\n",
    "print(response.json())"
   ]
  },
  {
   "cell_type": "code",
   "execution_count": 11,
   "id": "18e2355a",
   "metadata": {},
   "outputs": [
    {
     "name": "stdout",
     "output_type": "stream",
     "text": [
      "{'id': 3, 'name': 'Changed to aku', 'email': 'newAku@example.com', 'role': 'User', 'created_at': '2025-04-22T09:52:44.928171Z'}\n"
     ]
    }
   ],
   "source": [
    "import requests\n",
    "\n",
    "\n",
    "user_id = 3\n",
    "\n",
    "\n",
    "url = f\"https://dair12.pythonanywhere.com/users/{user_id}/update/\"\n",
    "\n",
    "\n",
    "data = {\n",
    "    \"name\": \" Changed to aku\",\n",
    "    \"email\": \"newAku@example.com\",\n",
    "    \"role\": \"User\"\n",
    "}\n",
    "\n",
    "\n",
    "response = requests.put(url, json=data)\n",
    "print(response.json())"
   ]
  },
  {
   "cell_type": "code",
   "execution_count": 16,
   "id": "fd4a486f",
   "metadata": {},
   "outputs": [
    {
     "name": "stdout",
     "output_type": "stream",
     "text": [
      "{'detail': 'No User matches the given query.'}\n"
     ]
    }
   ],
   "source": [
    "import requests\n",
    "\n",
    "\n",
    "user_id = 1  \n",
    "\n",
    "\n",
    "url = f\"https://dair12.pythonanywhere.com/users/{user_id}/delete/\"\n",
    "\n",
    "\n",
    "\n",
    "\n",
    "response = requests.delete(url)\n",
    "print(response.json())"
   ]
  },
  {
   "cell_type": "code",
   "execution_count": 15,
   "id": "49721e93",
   "metadata": {},
   "outputs": [
    {
     "name": "stdout",
     "output_type": "stream",
     "text": [
      "{'exam_code': ['exam with this exam code already exists.']}\n"
     ]
    }
   ],
   "source": [
    "import requests\n",
    "\n",
    "url = f\"https://dair12.pythonanywhere.com/exams/create/\"\n",
    "\n",
    "\n",
    "data = {\n",
    "    \"exam_code\": \"SAT\",\n",
    "    \"name\":\"SAT examination\",\n",
    "    \"has_fixed_structure\": True,\n",
    "    \"default_question_count\":20, \n",
    "    \"time_to_complete\": 120\n",
    "}\n",
    "\n",
    "\n",
    "response = requests.post(url, json=data)\n",
    "print(response.json())"
   ]
  },
  {
   "cell_type": "code",
   "execution_count": 14,
   "id": "369e0418",
   "metadata": {},
   "outputs": [
    {
     "name": "stdout",
     "output_type": "stream",
     "text": [
      "[{'id': 1, 'exam_code': 'MATH', 'name': 'math exam', 'has_fixed_structure': True, 'default_question_count': 20, 'time_to_complete': 120, 'created_at': '2025-04-22T09:18:40.459181Z'}, {'id': 2, 'exam_code': 'SAT', 'name': 'SAT examination', 'has_fixed_structure': True, 'default_question_count': 20, 'time_to_complete': 120, 'created_at': '2025-04-22T09:58:05.630096Z'}]\n"
     ]
    }
   ],
   "source": [
    "import requests\n",
    "\n",
    "url = f\"https://dair12.pythonanywhere.com/exams/\"\n",
    "\n",
    "\n",
    "\n",
    "response = requests.get(url)\n",
    "print(response.json())"
   ]
  },
  {
   "cell_type": "code",
   "execution_count": 30,
   "id": "ec31829f",
   "metadata": {},
   "outputs": [
    {
     "name": "stdout",
     "output_type": "stream",
     "text": [
      "{'id': 1, 'exam_code': 'MATH', 'name': 'math exam', 'has_fixed_structure': True, 'default_question_count': 20, 'time_to_complete': 120, 'created_at': '2025-04-22T09:18:40.459181Z'}\n"
     ]
    }
   ],
   "source": [
    "import requests\n",
    "\n",
    "exam_id = 1\n",
    "url = f\"https://dair12.pythonanywhere.com/exams/{exam_id}\"\n",
    "\n",
    "\n",
    "\n",
    "response = requests.get(url)\n",
    "print(response.json())"
   ]
  },
  {
   "cell_type": "code",
   "execution_count": 31,
   "id": "66b8e976",
   "metadata": {},
   "outputs": [
    {
     "name": "stdout",
     "output_type": "stream",
     "text": [
      "{'message': 'Subject created successfully'}\n"
     ]
    }
   ],
   "source": [
    "import requests\n",
    "\n",
    "# API endpoint for creating a subject\n",
    "url = \"https://dair12.pythonanywhere.com/subjects/create/\"\n",
    "\n",
    "# Data to send in the POST request\n",
    "data = {\n",
    "    \"name\": \"Mathematics\",\n",
    "    \"exam_id\": 1\n",
    "}\n",
    "\n",
    "# Sending the POST request\n",
    "response = requests.post(url, json=data)\n",
    "print(response.json())"
   ]
  },
  {
   "cell_type": "code",
   "execution_count": 33,
   "id": "1f05b74c",
   "metadata": {},
   "outputs": [
    {
     "name": "stdout",
     "output_type": "stream",
     "text": [
      "[{'id': 1, 'name': 'Mathematics'}]\n"
     ]
    }
   ],
   "source": [
    "import requests\n",
    "\n",
    "url = f\"https://dair12.pythonanywhere.com/subjects/\"\n",
    "\n",
    "\n",
    "\n",
    "response = requests.get(url)\n",
    "print(response.json())"
   ]
  },
  {
   "cell_type": "code",
   "execution_count": 4,
   "id": "3f3b13bd",
   "metadata": {},
   "outputs": [
    {
     "name": "stdout",
     "output_type": "stream",
     "text": [
      "{'id': 1, 'name': 'Mathematics'}\n"
     ]
    }
   ],
   "source": [
    "import requests\n",
    "\n",
    "id = 1\n",
    "url = f\"https://dair12.pythonanywhere.com/subjects/{id}\"\n",
    "\n",
    "\n",
    "\n",
    "response = requests.get(url)\n",
    "print(response.json())"
   ]
  },
  {
   "cell_type": "code",
   "execution_count": 1,
   "id": "d6d26964",
   "metadata": {},
   "outputs": [
    {
     "name": "stdout",
     "output_type": "stream",
     "text": [
      "{'message': 'Subject section created successfully'}\n"
     ]
    }
   ],
   "source": [
    "import requests\n",
    "\n",
    "# API endpoint for creating a subject section\n",
    "url = \"https://dair12.pythonanywhere.com/subject-sections/create/\"\n",
    "\n",
    "# Data to send in the POST request\n",
    "data = {\n",
    "    \"subject_id\": 1,\n",
    "    \"name\": \"Algebra\"\n",
    "}\n",
    "\n",
    "# Sending the POST request\n",
    "response = requests.post(url, json=data)\n",
    "print(response.json())"
   ]
  },
  {
   "cell_type": "code",
   "execution_count": null,
   "id": "99635b6d",
   "metadata": {},
   "outputs": [],
   "source": []
  }
 ],
 "metadata": {
  "kernelspec": {
   "display_name": "Python 3",
   "language": "python",
   "name": "python3"
  },
  "language_info": {
   "codemirror_mode": {
    "name": "ipython",
    "version": 3
   },
   "file_extension": ".py",
   "mimetype": "text/x-python",
   "name": "python",
   "nbconvert_exporter": "python",
   "pygments_lexer": "ipython3",
   "version": "3.13.2"
  }
 },
 "nbformat": 4,
 "nbformat_minor": 5
}
